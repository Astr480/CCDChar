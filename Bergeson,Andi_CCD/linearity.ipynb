{
 "cells": [
  {
   "cell_type": "markdown",
   "metadata": {},
   "source": [
    "# Detector Gain\n",
    "\n",
    "You could calculate the mean of each flat image manually using IRAF. Alternatively, you could calculate the means for all of the images automatically using Python."
   ]
  },
  {
   "cell_type": "code",
   "execution_count": 1,
   "metadata": {},
   "outputs": [],
   "source": [
    "from astropy.io import fits\n",
    "import numpy as np\n",
    "import pandas as pd\n",
    "from pandas import DataFrame\n",
    "import matplotlib.pyplot as plt\n",
    "# glob serves some of the same functions as ls in the terminal\n",
    "import glob"
   ]
  },
  {
   "cell_type": "markdown",
   "metadata": {},
   "source": [
    "## FITS Headers\n",
    "The headers of the FITS files contain the exposure times of the flat images. Now we use `fits.open` instead of `fits.getdata`. HDU stands for Header/Data Unit."
   ]
  },
  {
   "cell_type": "code",
   "execution_count": 2,
   "metadata": {},
   "outputs": [
    {
     "name": "stdout",
     "output_type": "stream",
     "text": [
      "29.5\n"
     ]
    },
    {
     "name": "stderr",
     "output_type": "stream",
     "text": [
      "WARNING: Header block contains null bytes instead of spaces for padding, and is not FITS-compliant. Nulls may be replaced with spaces upon writing. [astropy.io.fits.header]\n"
     ]
    }
   ],
   "source": [
    "hdu = fits.open('flat29.5(3).FIT')\n",
    "header = hdu[0].header\n",
    "print(header['exposure'])"
   ]
  },
  {
   "cell_type": "markdown",
   "metadata": {},
   "source": [
    "## Calculating Mean Counts\n",
    "We can find all of the flat images, assuming they all have 'Flat' in the name.\n",
    "#### You will need to change the path to the directory containing your data."
   ]
  },
  {
   "cell_type": "code",
   "execution_count": 3,
   "metadata": {},
   "outputs": [
    {
     "name": "stdout",
     "output_type": "stream",
     "text": [
      "['flat153.FIT', 'flat27.FIT', 'flat36.FIT', 'flat4.5.FIT', 'flat90.FIT', 'flat117.FIT', 'flat108.FIT', 'flat0.28.FIT', 'flat63.FIT', 'flat29.5(3).FIT', 'flat126.FIT', 'flat180.FIT', 'flat1.125.FIT', 'flat9.FIT', 'flat12.5.FIT', 'flat45.FIT', 'flat29.5.FIT', 'flat0.5625.FIT', 'flat72.FIT', 'flat54.FIT', 'flat81.FIT', 'flat135.FIT', 'flat29.5(2).FIT', 'flat2.25.FIT', 'flat0.14.FIT', 'flat144.FIT', 'flat18.FIT']\n"
     ]
    }
   ],
   "source": [
    "# This is equivalent to $ ls Flat*.fits\n",
    "flat_list = glob.glob('flat*.FIT')\n",
    "print(flat_list)"
   ]
  },
  {
   "cell_type": "markdown",
   "metadata": {},
   "source": [
    "Now we can loop through each flat image, and keep track of the exposure time and mean counts"
   ]
  },
  {
   "cell_type": "code",
   "execution_count": 4,
   "metadata": {},
   "outputs": [
    {
     "name": "stdout",
     "output_type": "stream",
     "text": [
      "Exposure time 153.0 sec\n",
      "Mean counts: 34785.47\n",
      "\n",
      "Exposure time 27.0 sec\n",
      "Mean counts: 6337.47\n",
      "\n",
      "Exposure time 36.0 sec\n",
      "Mean counts: 8638.10\n",
      "\n",
      "Exposure time 4.5 sec\n",
      "Mean counts: 1039.42\n",
      "\n",
      "Exposure time 90.0 sec\n",
      "Mean counts: 21168.47\n",
      "\n",
      "Exposure time 117.0 sec\n",
      "Mean counts: 33911.78\n",
      "\n",
      "Exposure time 108.0 sec\n",
      "Mean counts: 31002.38\n",
      "\n",
      "Exposure time 0.28 sec\n",
      "Mean counts: 172.71\n",
      "\n",
      "Exposure time 63.0 sec\n",
      "Mean counts: 14132.56\n",
      "\n",
      "Exposure time 29.5 sec\n",
      "Mean counts: 6457.85\n",
      "\n",
      "Exposure time 126.0 sec\n",
      "Mean counts: 33771.87\n",
      "\n",
      "Exposure time 180.0 sec\n",
      "Mean counts: 36278.97\n",
      "\n",
      "Exposure time 1.13 sec\n",
      "Mean counts: 353.10\n",
      "\n",
      "Exposure time 9.0 sec\n",
      "Mean counts: 1810.71\n",
      "\n",
      "Exposure time 12.5 sec\n",
      "Mean counts: 2201.62\n",
      "\n",
      "Exposure time 45.0 sec\n",
      "Mean counts: 10728.44\n",
      "\n",
      "Exposure time 29.5 sec\n",
      "Mean counts: 5958.11\n",
      "\n",
      "Exposure time 0.56 sec\n",
      "Mean counts: 228.51\n",
      "\n",
      "Exposure time 72.0 sec\n",
      "Mean counts: 14518.43\n",
      "\n",
      "Exposure time 54.0 sec\n",
      "Mean counts: 12096.95\n",
      "\n",
      "Exposure time 81.0 sec\n",
      "Mean counts: 15436.37\n",
      "\n",
      "Exposure time 135.0 sec\n",
      "Mean counts: 30470.05\n",
      "\n",
      "Exposure time 29.5 sec\n",
      "Mean counts: 6739.78\n",
      "\n",
      "Exposure time 2.25 sec\n",
      "Mean counts: 612.57\n",
      "\n",
      "Exposure time 0.14 sec\n",
      "Mean counts: 145.51\n",
      "\n",
      "Exposure time 144.0 sec\n",
      "Mean counts: 34397.28\n",
      "\n",
      "Exposure time 18.0 sec\n",
      "Mean counts: 4067.03\n",
      "\n"
     ]
    }
   ],
   "source": [
    "# These are empty lists (arrays) to store the exposure times and mean counts\n",
    "exp_times = []\n",
    "means = []\n",
    "\n",
    "for filename in flat_list:\n",
    "    # Open the FITS file\n",
    "    hdu = fits.open(filename)\n",
    "    \n",
    "    exptime = hdu[0].header['exposure']\n",
    "    print('Exposure time {} sec'.format(exptime))\n",
    "    \n",
    "    # This will append the exposure time for each image to the array\n",
    "    exp_times.append(exptime)\n",
    "    \n",
    "    # Same for mean counts\n",
    "    mean_counts = np.mean(hdu[0].data)\n",
    "    print('Mean counts: {:.2f}\\n'.format(mean_counts))\n",
    "    means.append(mean_counts)\n",
    "\n",
    "# Convert to Numpy arrays so they can be sorted\n",
    "exp_times = np.array(exp_times)\n",
    "means = np.array(means)\n",
    "\n",
    "# Sort by exposure time so the plot looks correct\n",
    "time_sort = np.argsort(exp_times)\n",
    "exp_times = exp_times[time_sort]\n",
    "means = means[time_sort]"
   ]
  },
  {
   "cell_type": "markdown",
   "metadata": {},
   "source": [
    "## Plot mean counts versus exposure time\n"
   ]
  },
  {
   "cell_type": "code",
   "execution_count": 14,
   "metadata": {},
   "outputs": [
    {
     "data": {
      "image/png": "[encoded data removed]",
      "text/plain": [
       "<Figure size 720x576 with 1 Axes>"
      ]
     },
     "metadata": {
      "needs_background": "light"
     },
     "output_type": "display_data"
    }
   ],
   "source": [
    "plt.figure(figsize=(10, 8))\n",
    "plt.rcParams['font.size'] = 16\n",
    "x = np.linspace(0, 180,10)\n",
    "y = 220*x+30\n",
    "\n",
    "plt.plot(exp_times, means, '-ko')\n",
    "plt.plot(x,y,'--g')\n",
    "plt.title('Linearity Plot')\n",
    "plt.xlabel('Exposure Time (sec)')\n",
    "plt.ylabel('Mean counts')\n",
    "plt.show()"
   ]
  },
  {
   "cell_type": "code",
   "execution_count": 6,
   "metadata": {},
   "outputs": [
    {
     "data": {
      "text/html": [
       "<div>\n",
       "<style scoped>\n",
       "    .dataframe tbody tr th:only-of-type {\n",
       "        vertical-align: middle;\n",
       "    }\n",
       "\n",
       "    .dataframe tbody tr th {\n",
       "        vertical-align: top;\n",
       "    }\n",
       "\n",
       "    .dataframe thead th {\n",
       "        text-align: right;\n",
       "    }\n",
       "</style>\n",
       "<table border=\"1\" class=\"dataframe\">\n",
       "  <thead>\n",
       "    <tr style=\"text-align: right;\">\n",
       "      <th></th>\n",
       "      <th>Exposure Time</th>\n",
       "      <th>Mean Counts</th>\n",
       "    </tr>\n",
       "  </thead>\n",
       "  <tbody>\n",
       "    <tr>\n",
       "      <th>0</th>\n",
       "      <td>0.14</td>\n",
       "      <td>145.513602</td>\n",
       "    </tr>\n",
       "    <tr>\n",
       "      <th>1</th>\n",
       "      <td>0.28</td>\n",
       "      <td>172.705174</td>\n",
       "    </tr>\n",
       "    <tr>\n",
       "      <th>2</th>\n",
       "      <td>0.56</td>\n",
       "      <td>228.506585</td>\n",
       "    </tr>\n",
       "    <tr>\n",
       "      <th>3</th>\n",
       "      <td>1.13</td>\n",
       "      <td>353.095641</td>\n",
       "    </tr>\n",
       "    <tr>\n",
       "      <th>4</th>\n",
       "      <td>2.25</td>\n",
       "      <td>612.572633</td>\n",
       "    </tr>\n",
       "    <tr>\n",
       "      <th>5</th>\n",
       "      <td>4.50</td>\n",
       "      <td>1039.418760</td>\n",
       "    </tr>\n",
       "    <tr>\n",
       "      <th>6</th>\n",
       "      <td>9.00</td>\n",
       "      <td>1810.705733</td>\n",
       "    </tr>\n",
       "    <tr>\n",
       "      <th>7</th>\n",
       "      <td>12.50</td>\n",
       "      <td>2201.621869</td>\n",
       "    </tr>\n",
       "    <tr>\n",
       "      <th>8</th>\n",
       "      <td>18.00</td>\n",
       "      <td>4067.025780</td>\n",
       "    </tr>\n",
       "    <tr>\n",
       "      <th>9</th>\n",
       "      <td>27.00</td>\n",
       "      <td>6337.473059</td>\n",
       "    </tr>\n",
       "    <tr>\n",
       "      <th>10</th>\n",
       "      <td>29.50</td>\n",
       "      <td>6457.847089</td>\n",
       "    </tr>\n",
       "    <tr>\n",
       "      <th>11</th>\n",
       "      <td>29.50</td>\n",
       "      <td>6739.779149</td>\n",
       "    </tr>\n",
       "    <tr>\n",
       "      <th>12</th>\n",
       "      <td>29.50</td>\n",
       "      <td>5958.109835</td>\n",
       "    </tr>\n",
       "    <tr>\n",
       "      <th>13</th>\n",
       "      <td>36.00</td>\n",
       "      <td>8638.097948</td>\n",
       "    </tr>\n",
       "    <tr>\n",
       "      <th>14</th>\n",
       "      <td>45.00</td>\n",
       "      <td>10728.443977</td>\n",
       "    </tr>\n",
       "    <tr>\n",
       "      <th>15</th>\n",
       "      <td>54.00</td>\n",
       "      <td>12096.952056</td>\n",
       "    </tr>\n",
       "    <tr>\n",
       "      <th>16</th>\n",
       "      <td>63.00</td>\n",
       "      <td>14132.560780</td>\n",
       "    </tr>\n",
       "    <tr>\n",
       "      <th>17</th>\n",
       "      <td>72.00</td>\n",
       "      <td>14518.430709</td>\n",
       "    </tr>\n",
       "    <tr>\n",
       "      <th>18</th>\n",
       "      <td>81.00</td>\n",
       "      <td>15436.370988</td>\n",
       "    </tr>\n",
       "    <tr>\n",
       "      <th>19</th>\n",
       "      <td>90.00</td>\n",
       "      <td>21168.472288</td>\n",
       "    </tr>\n",
       "    <tr>\n",
       "      <th>20</th>\n",
       "      <td>108.00</td>\n",
       "      <td>31002.384592</td>\n",
       "    </tr>\n",
       "    <tr>\n",
       "      <th>21</th>\n",
       "      <td>117.00</td>\n",
       "      <td>33911.784257</td>\n",
       "    </tr>\n",
       "    <tr>\n",
       "      <th>22</th>\n",
       "      <td>126.00</td>\n",
       "      <td>33771.868859</td>\n",
       "    </tr>\n",
       "    <tr>\n",
       "      <th>23</th>\n",
       "      <td>135.00</td>\n",
       "      <td>30470.050797</td>\n",
       "    </tr>\n",
       "    <tr>\n",
       "      <th>24</th>\n",
       "      <td>144.00</td>\n",
       "      <td>34397.284999</td>\n",
       "    </tr>\n",
       "    <tr>\n",
       "      <th>25</th>\n",
       "      <td>153.00</td>\n",
       "      <td>34785.465203</td>\n",
       "    </tr>\n",
       "    <tr>\n",
       "      <th>26</th>\n",
       "      <td>180.00</td>\n",
       "      <td>36278.972637</td>\n",
       "    </tr>\n",
       "  </tbody>\n",
       "</table>\n",
       "</div>"
      ],
      "text/plain": [
       "    Exposure Time   Mean Counts\n",
       "0            0.14    145.513602\n",
       "1            0.28    172.705174\n",
       "2            0.56    228.506585\n",
       "3            1.13    353.095641\n",
       "4            2.25    612.572633\n",
       "5            4.50   1039.418760\n",
       "6            9.00   1810.705733\n",
       "7           12.50   2201.621869\n",
       "8           18.00   4067.025780\n",
       "9           27.00   6337.473059\n",
       "10          29.50   6457.847089\n",
       "11          29.50   6739.779149\n",
       "12          29.50   5958.109835\n",
       "13          36.00   8638.097948\n",
       "14          45.00  10728.443977\n",
       "15          54.00  12096.952056\n",
       "16          63.00  14132.560780\n",
       "17          72.00  14518.430709\n",
       "18          81.00  15436.370988\n",
       "19          90.00  21168.472288\n",
       "20         108.00  31002.384592\n",
       "21         117.00  33911.784257\n",
       "22         126.00  33771.868859\n",
       "23         135.00  30470.050797\n",
       "24         144.00  34397.284999\n",
       "25         153.00  34785.465203\n",
       "26         180.00  36278.972637"
      ]
     },
     "execution_count": 6,
     "metadata": {},
     "output_type": "execute_result"
    }
   ],
   "source": [
    "df = pd.DataFrame(columns=['Exposure Time', 'Mean Counts'],)\n",
    "df['Exposure Time'] = exp_times\n",
    "df['Mean Counts'] = means\n",
    "                       \n",
    "df"
   ]
  }
 ],
 "metadata": {
  "anaconda-cloud": {},
  "kernelspec": {
   "display_name": "Python 3",
   "language": "python",
   "name": "python3"
  },
  "language_info": {
   "codemirror_mode": {
    "name": "ipython",
    "version": 3
   },
   "file_extension": ".py",
   "mimetype": "text/x-python",
   "name": "python",
   "nbconvert_exporter": "python",
   "pygments_lexer": "ipython3",
   "version": "3.6.8"
  }
 },
 "nbformat": 4,
 "nbformat_minor": 1
}
