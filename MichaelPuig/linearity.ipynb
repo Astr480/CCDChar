{
 "cells": [
  {
   "cell_type": "markdown",
   "metadata": {},
   "source": [
    "# Detector Gain\n",
    "\n",
    "You could calculate the mean of each flat image manually using IRAF. Alternatively, you could calculate the means for all of the images automatically using Python."
   ]
  },
  {
   "cell_type": "code",
   "execution_count": 10,
   "metadata": {},
   "outputs": [],
   "source": [
    "from astropy.io import fits\n",
    "import numpy as np\n",
    "import matplotlib.pyplot as plt\n",
    "# glob serves some of the same functions as ls in the terminal\n",
    "import glob\n",
    "from astropy.table import Table"
   ]
  },
  {
   "cell_type": "markdown",
   "metadata": {},
   "source": [
    "## FITS Headers\n",
    "The headers of the FITS files contain the exposure times of the flat images. Now we use `fits.open` instead of `fits.getdata`. HDU stands for Header/Data Unit."
   ]
  },
  {
   "cell_type": "code",
   "execution_count": 18,
   "metadata": {},
   "outputs": [
    {
     "name": "stdout",
     "output_type": "stream",
     "text": [
      "6.0\n"
     ]
    },
    {
     "name": "stderr",
     "output_type": "stream",
     "text": [
      "WARNING: Header block contains null bytes instead of spaces for padding, and is not FITS-compliant. Nulls may be replaced with spaces upon writing. [astropy.io.fits.header]\n"
     ]
    }
   ],
   "source": [
    "hdu = fits.open('CCD/slitview.00000359.FLAT.FIT')\n",
    "header = hdu[0].header\n",
    "print(header['exposure'])"
   ]
  },
  {
   "cell_type": "markdown",
   "metadata": {},
   "source": [
    "## Calculating Mean Counts\n",
    "We can find all of the flat images, assuming they all have 'Flat' in the name.\n",
    "#### You will need to change the path to the directory containing your data."
   ]
  },
  {
   "cell_type": "code",
   "execution_count": 6,
   "metadata": {},
   "outputs": [
    {
     "name": "stdout",
     "output_type": "stream",
     "text": [
      "['CCD/Pencil105.FLAT.FIT', 'CCD/Pencil75.FLAT.FIT', 'CCD/Pencil90.FLAT.FIT', 'CCD/Pencil15.FLAT.FIT', 'CCD/Pencil0.625.FLAT.FIT', 'CCD/Pencil1.25.FLAT.FIT', 'CCD/Pencil65.FLAT.FIT', 'CCD/Pencil0.3125.FLAT.FIT', 'CCD/Pencil0.16.FLAT.FIT', 'CCD/Pencil85.FLAT.FIT', 'CCD/Pencil5.FLAT.FIT', 'CCD/Pencil55.FLAT.FIT', 'CCD/Pencil35.FLAT.FIT', 'CCD/Pencil95.FLAT.FIT', 'CCD/Pencil45.FLAT.FIT', 'CCD/Pencil2.5.FLAT.FIT', 'CCD/Pencil25.FLAT.FIT']\n"
     ]
    }
   ],
   "source": [
    "# This is equivalent to $ ls Flat*.fits\n",
    "flat_list = glob.glob('CCD/Pencil*.FIT')\n",
    "print(flat_list)"
   ]
  },
  {
   "cell_type": "markdown",
   "metadata": {},
   "source": [
    "Now we can loop through each flat image, and keep track of the exposure time and mean counts"
   ]
  },
  {
   "cell_type": "code",
   "execution_count": 7,
   "metadata": {},
   "outputs": [
    {
     "name": "stdout",
     "output_type": "stream",
     "text": [
      "Exposure time 105.0 sec\n",
      "Mean counts: 34076.27\n",
      "\n",
      "Exposure time 75.0 sec\n",
      "Mean counts: 31235.74\n",
      "\n",
      "Exposure time 90.0 sec\n",
      "Mean counts: 32542.03\n",
      "\n",
      "Exposure time 15.0 sec\n",
      "Mean counts: 6514.27\n",
      "\n",
      "Exposure time 0.63 sec\n",
      "Mean counts: 402.87\n",
      "\n",
      "Exposure time 1.25 sec\n",
      "Mean counts: 698.58\n",
      "\n",
      "Exposure time 65.0 sec\n",
      "Mean counts: 27911.69\n",
      "\n",
      "Exposure time 0.31 sec\n",
      "Mean counts: 260.67\n",
      "\n",
      "Exposure time 0.16 sec\n",
      "Mean counts: 185.59\n",
      "\n",
      "Exposure time 85.0 sec\n",
      "Mean counts: 33109.37\n",
      "\n",
      "Exposure time 5.0 sec\n",
      "Mean counts: 1912.06\n",
      "\n",
      "Exposure time 55.0 sec\n",
      "Mean counts: 23804.44\n",
      "\n",
      "Exposure time 35.0 sec\n",
      "Mean counts: 15383.94\n",
      "\n",
      "Exposure time 95.0 sec\n",
      "Mean counts: 32454.10\n",
      "\n",
      "Exposure time 45.0 sec\n",
      "Mean counts: 19442.49\n",
      "\n",
      "Exposure time 2.5 sec\n",
      "Mean counts: 1255.83\n",
      "\n",
      "Exposure time 25.0 sec\n",
      "Mean counts: 11222.69\n",
      "\n"
     ]
    },
    {
     "name": "stderr",
     "output_type": "stream",
     "text": [
      "WARNING: Header block contains null bytes instead of spaces for padding, and is not FITS-compliant. Nulls may be replaced with spaces upon writing. [astropy.io.fits.header]\n"
     ]
    }
   ],
   "source": [
    "# These are empty lists (arrays) to store the exposure times and mean counts\n",
    "exposure = []\n",
    "means = []\n",
    "\n",
    "for filename in flat_list:\n",
    "    # Open the FITS file\n",
    "    hdu = fits.open(filename)\n",
    "    \n",
    "    exptime = hdu[0].header['exposure']\n",
    "    print('Exposure time {} sec'.format(exptime))\n",
    "    \n",
    "    # This will append the exposure time for each image to the array\n",
    "    exposure.append(exptime)\n",
    "    \n",
    "    # Same for mean counts\n",
    "    mean_counts = np.mean(hdu[0].data)\n",
    "    print('Mean counts: {:.2f}\\n'.format(mean_counts))\n",
    "    means.append(mean_counts)\n",
    "\n",
    "# Convert to Numpy arrays so they can be sorted\n",
    "exp_times = np.array(exposure)\n",
    "means = np.array(means)\n",
    "\n",
    "# Sort by exposure time so the plot looks correct\n",
    "time_sort = np.argsort(exposure)\n",
    "exposure = np.array([exposure[i] for i in time_sort])\n",
    "means = np.array([means[i] for i in time_sort])"
   ]
  },
  {
   "cell_type": "markdown",
   "metadata": {},
   "source": [
    "## Plot mean counts versus exposure time\n"
   ]
  },
  {
   "cell_type": "code",
   "execution_count": 15,
   "metadata": {},
   "outputs": [
    {
     "data": {
      "image/png": "[encoded data removed]",
      "text/plain": [
       "<Figure size 720x576 with 1 Axes>"
      ]
     },
     "metadata": {},
     "output_type": "display_data"
    }
   ],
   "source": [
    "plt.figure(figsize=(10, 8))\n",
    "plt.rcParams['font.size'] = 16\n",
    "\n",
    "plt.plot(exposure, means, '-ko')\n",
    "plt.xlabel('Exposure Time (sec)')\n",
    "plt.ylabel('Mean counts')\n",
    "#plt.show()\n",
    "plt.savefig('ExposurevsCounts.png')"
   ]
  },
  {
   "cell_type": "code",
   "execution_count": 12,
   "metadata": {},
   "outputs": [
    {
     "data": {
      "text/html": [
       "<i>Table length=1</i>\n",
       "<table id=\"table90576156656\" class=\"table-striped table-bordered table-condensed\">\n",
       "<thead><tr><th>col0</th><th>col1</th><th>col2</th><th>col3</th><th>col4</th><th>col5</th><th>col6</th><th>col7</th><th>col8</th><th>col9</th><th>col10</th><th>col11</th><th>col12</th><th>col13</th><th>col14</th><th>col15</th><th>col16</th></tr></thead>\n",
       "<thead><tr><th>float64</th><th>float64</th><th>float64</th><th>float64</th><th>float64</th><th>float64</th><th>float64</th><th>float64</th><th>float64</th><th>float64</th><th>float64</th><th>float64</th><th>float64</th><th>float64</th><th>float64</th><th>float64</th><th>float64</th></tr></thead>\n",
       "<tr><td>0.16</td><td>0.31</td><td>0.63</td><td>1.25</td><td>2.5</td><td>5.0</td><td>15.0</td><td>25.0</td><td>35.0</td><td>45.0</td><td>55.0</td><td>65.0</td><td>75.0</td><td>85.0</td><td>90.0</td><td>95.0</td><td>105.0</td></tr>\n",
       "</table>"
      ],
      "text/plain": [
       "<Table length=1>\n",
       "  col0    col1    col2    col3    col4  ...  col13   col14   col15   col16 \n",
       "float64 float64 float64 float64 float64 ... float64 float64 float64 float64\n",
       "------- ------- ------- ------- ------- ... ------- ------- ------- -------\n",
       "   0.16    0.31    0.63    1.25     2.5 ...    85.0    90.0    95.0   105.0"
      ]
     },
     "execution_count": 12,
     "metadata": {},
     "output_type": "execute_result"
    }
   ],
   "source": []
  },
  {
   "cell_type": "code",
   "execution_count": null,
   "metadata": {},
   "outputs": [],
   "source": []
  }
 ],
 "metadata": {
  "anaconda-cloud": {},
  "kernelspec": {
   "display_name": "Python 3",
   "language": "python",
   "name": "python3"
  },
  "language_info": {
   "codemirror_mode": {
    "name": "ipython",
    "version": 3
   },
   "file_extension": ".py",
   "mimetype": "text/x-python",
   "name": "python",
   "nbconvert_exporter": "python",
   "pygments_lexer": "ipython3",
   "version": "3.6.8"
  }
 },
 "nbformat": 4,
 "nbformat_minor": 1
}
