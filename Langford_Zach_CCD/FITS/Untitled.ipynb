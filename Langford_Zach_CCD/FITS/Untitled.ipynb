{
 "cells": [
  {
   "cell_type": "code",
   "execution_count": 7,
   "metadata": {},
   "outputs": [
    {
     "data": {
      "text/plain": [
       "array([[ 711,  916, 1362, ..., 1088, 1074,  962],\n",
       "       [1285, 1366, 1434, ..., 1958, 1721, 1412],\n",
       "       [1872, 1352, 1696, ..., 1642, 1725, 1783],\n",
       "       ...,\n",
       "       [6487, 6096, 6132, ..., 9053, 8867, 8809],\n",
       "       [6266, 5960, 6424, ..., 9249, 8973, 8885],\n",
       "       [6004, 6042, 6442, ..., 8912, 8567, 8734]], dtype=uint16)"
      ]
     },
     "execution_count": 7,
     "metadata": {},
     "output_type": "execute_result"
    }
   ],
   "source": [
    "from astropy.io import fits\n",
    "\n",
    "flat = fits.open('Pencil35.FLAT.FIT')\n",
    "flat[0].data"
   ]
  },
  {
   "cell_type": "code",
   "execution_count": null,
   "metadata": {},
   "outputs": [],
   "source": []
  }
 ],
 "metadata": {
  "@webio": {
   "lastCommId": null,
   "lastKernelId": null
  },
  "kernelspec": {
   "display_name": "Python 3",
   "language": "python",
   "name": "python3"
  },
  "language_info": {
   "codemirror_mode": {
    "name": "ipython",
    "version": 3
   },
   "file_extension": ".py",
   "mimetype": "text/x-python",
   "name": "python",
   "nbconvert_exporter": "python",
   "pygments_lexer": "ipython3",
   "version": "3.7.3"
  }
 },
 "nbformat": 4,
 "nbformat_minor": 2
}
