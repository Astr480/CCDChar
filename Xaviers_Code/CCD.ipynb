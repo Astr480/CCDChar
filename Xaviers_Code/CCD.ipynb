{
 "cells": [
  {
   "cell_type": "code",
   "execution_count": 1,
   "metadata": {},
   "outputs": [],
   "source": [
    "import numpy as np\n",
    "import pandas as pd\n",
    "%matplotlib inline\n",
    "\n",
    "import matplotlib.pyplot as plt\n",
    "import astropy.io.fits as fits\n",
    "from astropy import units as u\n",
    "from astropy import constants as const\n",
    "import pandas as pd\n",
    "from scipy.optimize import curve_fit"
   ]
  },
  {
   "cell_type": "code",
   "execution_count": 2,
   "metadata": {},
   "outputs": [
    {
     "data": {
      "text/latex": [
       "$1.3806485 \\times 10^{-23} \\; \\mathrm{\\frac{J}{K}}$"
      ],
      "text/plain": [
       "<<class 'astropy.constants.codata2014.CODATA2014'> name='Boltzmann constant' value=1.38064852e-23 uncertainty=7.9e-30 unit='J / K' reference='CODATA 2014'>"
      ]
     },
     "execution_count": 2,
     "metadata": {},
     "output_type": "execute_result"
    }
   ],
   "source": [
    "const.k_B"
   ]
  },
  {
   "cell_type": "code",
   "execution_count": null,
   "metadata": {},
   "outputs": [],
   "source": []
  },
  {
   "cell_type": "code",
   "execution_count": 3,
   "metadata": {},
   "outputs": [],
   "source": [
    "def getRegion(data, startx, starty, width):\n",
    "    out = data[starty:starty+width]\n",
    "    output = list()\n",
    "    #This works but I hate it\n",
    "    for _,item in enumerate(out):\n",
    "        output.append(item[startx:startx + width])\n",
    "    \n",
    "#The final product for the image\n",
    "    return np.array(output)\n",
    "\n",
    "def removeBias(bias, image):\n",
    "    \"\"\"\n",
    "    Removes the bias frame from the original image\n",
    "    \"\"\"\n",
    "    return image - bias\n",
    "\n",
    "def getImageFile(location):\n",
    "    \"\"\"\n",
    "    Gets the 2D array from the given fits file\n",
    "    \"\"\"\n",
    "    return fits.open(location)[0].data\n",
    "\"\"\"\n",
    "def averagePixels(imagesList):\n",
    "    for i,image in enumerate(imagesList):\n",
    "        for y,xvalues in enumerate(image):\n",
    "            for x,values in enumerate(xvalues):\n",
    "\n",
    "\"\"\"\n",
    "\n",
    "#Man this sucked\n",
    "def subtraction(list1, list2):\n",
    "    #What we will be outputing at the end\n",
    "    output = list()\n",
    "    \n",
    "    #First for loop. Gives current y location and all the x-values\n",
    "    #  along that y-location\n",
    "    for y,xvalues in enumerate(list1):\n",
    "        \n",
    "        # Creating list for x values after subtraction at the current y\n",
    "        xterms = list()\n",
    "        \n",
    "        # gives the current x value location and the value at that location\n",
    "        #  Because of how this is written we are only getting the\n",
    "        #  value at that x,y location from list1\n",
    "        for x,value1 in enumerate(xvalues):\n",
    "            # list2 value at that x,y location\n",
    "            value2 = list2[y][x]\n",
    "            \n",
    "            #Finally the math\n",
    "            if value1 > value2:\n",
    "                # If the value for the first list is larger than the second\n",
    "                #  one we can do a standard subtraction\n",
    "                value = value1 - value2\n",
    "            elif value1 < value2:\n",
    "                # If the second number is larger then I'll reverse the order\n",
    "                #  This is an absolute value version of the math\n",
    "                value = value2 - value1\n",
    "            else:\n",
    "                #the last instance is if they are equal\n",
    "                value = 0\n",
    "            \n",
    "            # adds value from above to the value for the current x\n",
    "            xterms.append(value)\n",
    "        # Adds all the values for the given x to the current y\n",
    "        output.append(xterms)\n",
    "    \n",
    "    return np.array(output)\n",
    "    \n",
    "def ReadNoise(Gain,stdBias):\n",
    "    num = Gain *stdBias\n",
    "    denom = np.sqrt(2)\n",
    "    return num/denom\n",
    "\n",
    "def gain(meanFlat1,meanFlat2, meanBias1,meanBias2, sdFlat,sdBias):\n",
    "    num = (meanFlat1+meanFlat2) - (meanBias1+meanBias2)\n",
    "    denom = sdFlat**2 - sdBias**2\n",
    "    return num/denom"
   ]
  },
  {
   "cell_type": "code",
   "execution_count": null,
   "metadata": {},
   "outputs": [],
   "source": []
  },
  {
   "cell_type": "markdown",
   "metadata": {},
   "source": [
    "for lecture\n",
    "password: shebDejO"
   ]
  },
  {
   "cell_type": "code",
   "execution_count": null,
   "metadata": {},
   "outputs": [],
   "source": []
  },
  {
   "cell_type": "code",
   "execution_count": 4,
   "metadata": {},
   "outputs": [],
   "source": [
    "x = 130\n",
    "y = 300\n",
    "\n",
    "bias1 = getImageFile(\"data/bias1.FIT\")\n",
    "bias_region1 = getRegion(bias1,x,y,100)\n",
    "\n",
    "bias2 = getImageFile(\"data/bias3.FIT\")\n",
    "bias_region2 = getRegion(bias2,x,y,100)\n",
    "\n",
    "bias = subtraction(bias_region1, bias_region2)\n",
    "\n",
    "flat1 = getImageFile(\"data/18_sec.FIT\")\n",
    "flat_region1 = getRegion(flat1,x,y,100)\n",
    "\n",
    "flat2 = getImageFile(\"data/18_sec2.FIT\")\n",
    "flat_region2 = getRegion(flat2,x,y,100)\n",
    "\n",
    "flat = subtraction(flat_region1, flat_region2)"
   ]
  },
  {
   "cell_type": "code",
   "execution_count": 5,
   "metadata": {},
   "outputs": [
    {
     "name": "stdout",
     "output_type": "stream",
     "text": [
      "1.411619879088921\n"
     ]
    }
   ],
   "source": [
    "gainDevice = gain(flat_region1.mean(),flat_region2.mean(), \n",
    "    bias_region1.mean(), bias_region2.mean(),\n",
    "    flat.std(),bias.std())\n",
    "print(gainDevice)"
   ]
  },
  {
   "cell_type": "code",
   "execution_count": 6,
   "metadata": {},
   "outputs": [
    {
     "data": {
      "text/plain": [
       "11.598398909368193"
      ]
     },
     "execution_count": 6,
     "metadata": {},
     "output_type": "execute_result"
    }
   ],
   "source": [
    "ReadNoise(gainDevice, bias.std())"
   ]
  },
  {
   "cell_type": "code",
   "execution_count": 7,
   "metadata": {},
   "outputs": [],
   "source": [
    "everyImageLocation = [\"data/1.5_sec.FIT\", \"data/3_sec.FIT\", \"data/6_sec.FIT\", \"data/12_sec.FIT\",\n",
    "              \"data/15_sec.FIT\", \"data/18_sec.FIT\", \"data/24_sec.FIT\", \"data/30_sec.FIT\", \"data/36_sec.FIT\",\n",
    "              \"data/42_sec.FIT\", \"data/48_sec.FIT\", \"data/54_sec.FIT\", \"data/60_sec.FIT\", \"data/80_sec.FIT\"]\n",
    "time = [1.5,3,6,12,15,18,24,30,36,42,48,54,60,80]"
   ]
  },
  {
   "cell_type": "code",
   "execution_count": 8,
   "metadata": {},
   "outputs": [],
   "source": [
    "everyImageFile = list()\n",
    "for _,itm in enumerate(everyImageLocation):\n",
    "    everyImageFile.append(getImageFile(itm))\n",
    "everyImageFile = np.array(everyImageFile)"
   ]
  },
  {
   "cell_type": "code",
   "execution_count": 9,
   "metadata": {},
   "outputs": [],
   "source": [
    "everyImageCount = list()\n",
    "for _,itm in enumerate(everyImageFile):\n",
    "    everyImageCount.append(itm.mean())\n"
   ]
  },
  {
   "cell_type": "code",
   "execution_count": 10,
   "metadata": {},
   "outputs": [
    {
     "data": {
      "text/plain": [
       "[3174.873509727365,\n",
       " 5353.182539267797,\n",
       " 9578.537011703198,\n",
       " 18178.722682067706,\n",
       " 23983.323802245082,\n",
       " 28975.71633557792,\n",
       " 36629.3183851927,\n",
       " 45259.308314732145,\n",
       " 52164.64617829521,\n",
       " 56429.00578814302,\n",
       " 57330.156084828894,\n",
       " 57626.19552432961,\n",
       " 57723.53151408714,\n",
       " 57786.300761964485]"
      ]
     },
     "execution_count": 10,
     "metadata": {},
     "output_type": "execute_result"
    }
   ],
   "source": [
    "everyImageCount"
   ]
  },
  {
   "cell_type": "code",
   "execution_count": 25,
   "metadata": {},
   "outputs": [
    {
     "data": {
      "text/plain": [
       "[1.5, 3, 6, 12, 15, 18, 24, 30, 36, 42, 48, 54, 60, 80]"
      ]
     },
     "execution_count": 25,
     "metadata": {},
     "output_type": "execute_result"
    }
   ],
   "source": [
    "time"
   ]
  },
  {
   "cell_type": "code",
   "execution_count": 28,
   "metadata": {},
   "outputs": [
    {
     "data": {
      "text/plain": [
       "[<matplotlib.lines.Line2D at 0x101d0ebf98>]"
      ]
     },
     "execution_count": 28,
     "metadata": {},
     "output_type": "execute_result"
    },
    {
     "data": {
      "image/png": "[encoded data removed]",
      "text/plain": [
       "<Figure size 792x612 with 1 Axes>"
      ]
     },
     "metadata": {
      "needs_background": "light"
     },
     "output_type": "display_data"
    }
   ],
   "source": [
    "fig,ax = plt.subplots(1,1)                    # One window\n",
    "fig.set_size_inches(11,8.5)                   # (width,height) - letter paper landscape\n",
    "\n",
    "fig.tight_layout()                            # Make better use of space on plot\n",
    "\n",
    "ax.set_xlim(0.0,100.0)\n",
    "ax.set_ylim(0.0,60000.0)\n",
    "\n",
    "ax.set_xlabel(\"Time\")\n",
    "ax.set_ylabel(\"ADU\")\n",
    "    \n",
    "ax.plot(time, everyImageCount,marker=\"o\",linestyle=\"None\",markersize=7)"
   ]
  },
  {
   "cell_type": "code",
   "execution_count": null,
   "metadata": {},
   "outputs": [],
   "source": []
  },
  {
   "cell_type": "code",
   "execution_count": 12,
   "metadata": {},
   "outputs": [],
   "source": [
    "data = pd.read_csv(\"data/Temp vs Dark Current.csv\")"
   ]
  },
  {
   "cell_type": "code",
   "execution_count": 13,
   "metadata": {},
   "outputs": [
    {
     "data": {
      "text/plain": [
       "0      13\n",
       "1      15\n",
       "2      16\n",
       "3      17\n",
       "4      19\n",
       "5      22\n",
       "6      24\n",
       "7      28\n",
       "8      32\n",
       "9      37\n",
       "10     43\n",
       "11     50\n",
       "12     62\n",
       "13     89\n",
       "14    139\n",
       "Name: Dark - Bias (mean ADUs), dtype: int64"
      ]
     },
     "execution_count": 13,
     "metadata": {},
     "output_type": "execute_result"
    }
   ],
   "source": [
    "data[\"Dark - Bias (mean ADUs)\"]"
   ]
  },
  {
   "cell_type": "code",
   "execution_count": 30,
   "metadata": {},
   "outputs": [
    {
     "data": {
      "text/plain": [
       "[<matplotlib.lines.Line2D at 0x101be1d6d8>]"
      ]
     },
     "execution_count": 30,
     "metadata": {},
     "output_type": "execute_result"
    },
    {
     "data": {
      "image/png": "[encoded data removed]",
      "text/plain": [
       "<Figure size 792x612 with 1 Axes>"
      ]
     },
     "metadata": {
      "needs_background": "light"
     },
     "output_type": "display_data"
    }
   ],
   "source": [
    "fig,ax = plt.subplots(1,1)                    # One window\n",
    "fig.set_size_inches(11,8.5)                   # (width,height) - letter paper landscape\n",
    "\n",
    "fig.tight_layout()                            # Make better use of space on plot\n",
    "\n",
    "ax.set_xlim(-20,25)\n",
    "ax.set_ylim(0.0,150.0)\n",
    "\n",
    "ax.set_xlabel(\"Tempurature (C)\")\n",
    "ax.set_ylabel(\"Dark - Bias Mean ADU\")\n",
    "    \n",
    "ax.plot(data[\"Temperature (C) ±0.3C\"], data[\"Dark - Bias (mean ADUs)\"],marker=\"o\",linestyle=\"None\",markersize=7)\n"
   ]
  },
  {
   "cell_type": "markdown",
   "metadata": {},
   "source": [
    "y = Ke^(-bx)\n",
    "y/k = e^(-bx)\n",
    "ln(y/k) = (-bx)\n",
    "b = -ln(y/k)T\n",
    "E_g/2k = -ln(y/k)2kT"
   ]
  },
  {
   "cell_type": "code",
   "execution_count": 15,
   "metadata": {},
   "outputs": [],
   "source": [
    "K=22.58096919\n",
    "k = 8.6175*10**(-5)\n",
    "T = data[\"Temperature (C) ±0.3C\"] +273\n",
    "y = data[\"Dark - Bias (mean ADUs)\"]*2.3/120\n",
    "E_g = -np.log(y/K)*2*k*T"
   ]
  },
  {
   "cell_type": "code",
   "execution_count": 16,
   "metadata": {},
   "outputs": [
    {
     "data": {
      "text/plain": [
       "0     0.200398\n",
       "1     0.197795\n",
       "2     0.196352\n",
       "3     0.195044\n",
       "4     0.191206\n",
       "5     0.185718\n",
       "6     0.183202\n",
       "7     0.177238\n",
       "8     0.171903\n",
       "9     0.166294\n",
       "10    0.160442\n",
       "11    0.154113\n",
       "12    0.145042\n",
       "13    0.128749\n",
       "14    0.107926\n",
       "dtype: float64"
      ]
     },
     "execution_count": 16,
     "metadata": {},
     "output_type": "execute_result"
    }
   ],
   "source": [
    "E_g"
   ]
  },
  {
   "cell_type": "code",
   "execution_count": 17,
   "metadata": {},
   "outputs": [],
   "source": [
    "def f(T,E):\n",
    "    K=22.58096919\n",
    "    return K*np.e**(T*E/(2*k))"
   ]
  },
  {
   "cell_type": "code",
   "execution_count": 18,
   "metadata": {},
   "outputs": [
    {
     "data": {
      "text/plain": [
       "2.718281828459045"
      ]
     },
     "execution_count": 18,
     "metadata": {},
     "output_type": "execute_result"
    }
   ],
   "source": [
    "np.e"
   ]
  },
  {
   "cell_type": "code",
   "execution_count": 19,
   "metadata": {},
   "outputs": [],
   "source": [
    "# E\n",
    "guesses = [-500]"
   ]
  },
  {
   "cell_type": "code",
   "execution_count": 20,
   "metadata": {},
   "outputs": [
    {
     "name": "stderr",
     "output_type": "stream",
     "text": [
      "/Users/xavier/miniconda3/lib/python3.7/site-packages/scipy/optimize/minpack.py:787: OptimizeWarning: Covariance of the parameters could not be estimated\n",
      "  category=OptimizeWarning)\n"
     ]
    }
   ],
   "source": [
    "fitpars, error = curve_fit(f,data[\"Temperature (C) ±0.3C\"],data[\"Dark - Bias (mean ADUs)\"],p0=guesses)"
   ]
  },
  {
   "cell_type": "code",
   "execution_count": 21,
   "metadata": {},
   "outputs": [
    {
     "data": {
      "text/plain": [
       "array([-500.])"
      ]
     },
     "execution_count": 21,
     "metadata": {},
     "output_type": "execute_result"
    }
   ],
   "source": [
    "fitpars"
   ]
  },
  {
   "cell_type": "code",
   "execution_count": 22,
   "metadata": {},
   "outputs": [
    {
     "data": {
      "text/plain": [
       "array([[inf]])"
      ]
     },
     "execution_count": 22,
     "metadata": {},
     "output_type": "execute_result"
    }
   ],
   "source": [
    "error"
   ]
  },
  {
   "cell_type": "code",
   "execution_count": null,
   "metadata": {},
   "outputs": [],
   "source": []
  },
  {
   "cell_type": "code",
   "execution_count": null,
   "metadata": {},
   "outputs": [],
   "source": []
  }
 ],
 "metadata": {
  "kernelspec": {
   "display_name": "Python 3",
   "language": "python",
   "name": "python3"
  },
  "language_info": {
   "codemirror_mode": {
    "name": "ipython",
    "version": 3
   },
   "file_extension": ".py",
   "mimetype": "text/x-python",
   "name": "python",
   "nbconvert_exporter": "python",
   "pygments_lexer": "ipython3",
   "version": "3.7.3"
  }
 },
 "nbformat": 4,
 "nbformat_minor": 2
}
