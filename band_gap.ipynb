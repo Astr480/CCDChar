{
 "cells": [
  {
   "cell_type": "markdown",
   "metadata": {},
   "source": [
    "# Silicon Band Gap Energy"
   ]
  },
  {
   "cell_type": "code",
   "execution_count": 1,
   "metadata": {},
   "outputs": [],
   "source": [
    "import numpy as np\n",
    "import matplotlib.pyplot as plt\n",
    "# We will use the scipy curve_fit function to fit a model to data.\n",
    "from scipy.optimize import curve_fit"
   ]
  },
  {
   "cell_type": "markdown",
   "metadata": {},
   "source": [
    "Enter data from table as numpy arrays"
   ]
  },
  {
   "cell_type": "code",
   "execution_count": 3,
   "metadata": {},
   "outputs": [],
   "source": [
    "t_cel = np.array([-15., -10., -8., -6., -4.2, -2.3, 0., 2., \n",
    "                3.6, 5.8, 8.2, 10, 12.8, 16.2, 20.])\n",
    "adu = np.array([13, 15, 16, 17, 19, 22, 24, 28, 32, 37, \n",
    "                43, 50, 62, 89, 139])"
   ]
  },
  {
   "cell_type": "markdown",
   "metadata": {},
   "source": [
    "Convert Celsius to Kelvin"
   ]
  },
  {
   "cell_type": "code",
   "execution_count": 4,
   "metadata": {},
   "outputs": [
    {
     "name": "stdout",
     "output_type": "stream",
     "text": [
      "[258.15 263.15 265.15 267.15 268.95 270.85 273.15 275.15 276.75 278.95\n",
      " 281.35 283.15 285.95 289.35 293.15]\n"
     ]
    }
   ],
   "source": [
    "t_kel = t_cel + 273.15\n",
    "print(t_kel)\n",
    "t_inverse = 1 / t_kel"
   ]
  },
  {
   "cell_type": "markdown",
   "metadata": {},
   "source": [
    "Convert ADU (counts) to electrons"
   ]
  },
  {
   "cell_type": "code",
   "execution_count": 5,
   "metadata": {},
   "outputs": [],
   "source": [
    "electrons = adu * 2.3"
   ]
  },
  {
   "cell_type": "markdown",
   "metadata": {},
   "source": [
    "Convert electrons to electrons per second"
   ]
  },
  {
   "cell_type": "code",
   "execution_count": 6,
   "metadata": {},
   "outputs": [],
   "source": [
    "electrons_per_sec = electrons / 120"
   ]
  },
  {
   "cell_type": "markdown",
   "metadata": {},
   "source": [
    "## Plot dark current (e-/sec) vs. inverse temperature\n",
    "Make a plot in the cell below"
   ]
  },
  {
   "cell_type": "code",
   "execution_count": 7,
   "metadata": {},
   "outputs": [
    {
     "data": {
      "image/png": "[encoded data removed]",
      "text/plain": [
       "<Figure size 720x576 with 1 Axes>"
      ]
     },
     "metadata": {
      "needs_background": "light"
     },
     "output_type": "display_data"
    }
   ],
   "source": [
    "plt.figure(figsize=(10, 8))\n",
    "plt.rcParams['font.size'] = 16\n",
    "\n",
    "plt.plot(t_inverse, electrons_per_sec,'-ko')\n",
    "plt.ylabel('Dark Current (e-/sec)')\n",
    "plt.xlabel('Inverse T')\n",
    "plt.show()"
   ]
  },
  {
   "cell_type": "markdown",
   "metadata": {},
   "source": [
    "## Fit for the band gap energy\n",
    "We will try to fit a model for dark current of the form\n",
    "\n",
    "$D = \\alpha e^{-e_g/2k_bT}$"
   ]
  },
  {
   "cell_type": "code",
   "execution_count": 8,
   "metadata": {},
   "outputs": [],
   "source": [
    "# The Boltzmann constant\n",
    "k_b = 8.6175e-5\n",
    "\n",
    "\n",
    "def dark_current(t_k, alpha, e_g):\n",
    "    \"\"\"\n",
    "    Analytic expression for dark current as a function of temperature.\n",
    "    \n",
    "    Parameters\n",
    "    ----------\n",
    "    t_k : numpy.ndarray\n",
    "        Temperature in Kelvin\n",
    "    alpha : float\n",
    "        Constant coefficient in front of exponential funtion.\n",
    "    e_g : float\n",
    "        Band gap energy in eV.\n",
    "    \n",
    "    Returns\n",
    "    -------\n",
    "    dark_current : numpy.ndarray\n",
    "        Dark current in electrons/pixel/second.\n",
    "    \"\"\"\n",
    "    dark_current = alpha * np.exp(-e_g / (2 * k_b * t_k))\n",
    "    return dark_current\n"
   ]
  },
  {
   "cell_type": "markdown",
   "metadata": {},
   "source": [
    "## Inital guesses for parameters\n",
    "We need initial guesses for the values of $\\alpha$ and $e_g$."
   ]
  },
  {
   "cell_type": "code",
   "execution_count": 9,
   "metadata": {},
   "outputs": [],
   "source": [
    "t_0 = t_kel[-1]\n",
    "d_0 = electrons_per_sec[-1]\n",
    "\n",
    "alpha_0 =  d_0 / np.exp(-1.1 / (2 * k_b * t_0))\n",
    "e_g_0 = 1.1"
   ]
  },
  {
   "cell_type": "markdown",
   "metadata": {},
   "source": [
    "## Least squares fit"
   ]
  },
  {
   "cell_type": "code",
   "execution_count": 10,
   "metadata": {},
   "outputs": [],
   "source": [
    "p_opt, p_cov = curve_fit(dark_current, t_kel, electrons_per_sec, p0=[alpha_0, e_g_0])\n",
    "\n",
    "# Errors in the fit\n",
    "sig_alpha, sig_e_g = np.sqrt(np.diag(p_cov))"
   ]
  },
  {
   "cell_type": "markdown",
   "metadata": {},
   "source": [
    "## Best fit values"
   ]
  },
  {
   "cell_type": "code",
   "execution_count": 11,
   "metadata": {},
   "outputs": [
    {
     "name": "stdout",
     "output_type": "stream",
     "text": [
      "77098910165.43013\n",
      "1.2205226843061665\n"
     ]
    },
    {
     "data": {
      "text/plain": [
       "0.4242143350125111"
      ]
     },
     "execution_count": 11,
     "metadata": {},
     "output_type": "execute_result"
    }
   ],
   "source": [
    "alpha_fit, e_g_fit = p_opt\n",
    "print(alpha_fit)\n",
    "print(e_g_fit)\n",
    "dark_current = alpha_fit * np.exp(-e_g_fit / (2 * k_b * 273.15))\n",
    "dark_current"
   ]
  },
  {
   "cell_type": "markdown",
   "metadata": {},
   "source": [
    "## Plot the data and best fit model\n",
    "\n",
    "Make a plot in the cell below. To plot the model, use the `dark_current` function with `alpha_fit` and `e_g_fit`."
   ]
  },
  {
   "cell_type": "code",
   "execution_count": 17,
   "metadata": {},
   "outputs": [
    {
     "ename": "TypeError",
     "evalue": "'numpy.float64' object is not callable",
     "output_type": "error",
     "traceback": [
      "\u001b[0;31m---------------------------------------------------------------------------\u001b[0m",
      "\u001b[0;31mTypeError\u001b[0m                                 Traceback (most recent call last)",
      "\u001b[0;32m<ipython-input-17-b53e19e88d9f>\u001b[0m in \u001b[0;36m<module>\u001b[0;34m\u001b[0m\n\u001b[1;32m      4\u001b[0m \u001b[0;31m#dark_current = alpha_fit * np.exp(-e_g_fit / (2 * k_b * t_kel))\u001b[0m\u001b[0;34m\u001b[0m\u001b[0;34m\u001b[0m\u001b[0;34m\u001b[0m\u001b[0m\n\u001b[1;32m      5\u001b[0m \u001b[0;34m\u001b[0m\u001b[0m\n\u001b[0;32m----> 6\u001b[0;31m \u001b[0mplt\u001b[0m\u001b[0;34m.\u001b[0m\u001b[0mplot\u001b[0m\u001b[0;34m(\u001b[0m\u001b[0mt_kel\u001b[0m\u001b[0;34m,\u001b[0m \u001b[0mdark_current\u001b[0m\u001b[0;34m(\u001b[0m\u001b[0mt_kel\u001b[0m\u001b[0;34m,\u001b[0m \u001b[0;36m77098910165.43013\u001b[0m\u001b[0;34m,\u001b[0m \u001b[0;36m1.2205226843061665\u001b[0m\u001b[0;34m)\u001b[0m\u001b[0;34m)\u001b[0m\u001b[0;34m\u001b[0m\u001b[0;34m\u001b[0m\u001b[0m\n\u001b[0m\u001b[1;32m      7\u001b[0m \u001b[0mplt\u001b[0m\u001b[0;34m.\u001b[0m\u001b[0mylabel\u001b[0m\u001b[0;34m(\u001b[0m\u001b[0;34m'Dark Current (e-/sec)'\u001b[0m\u001b[0;34m)\u001b[0m\u001b[0;34m\u001b[0m\u001b[0;34m\u001b[0m\u001b[0m\n\u001b[1;32m      8\u001b[0m \u001b[0mplt\u001b[0m\u001b[0;34m.\u001b[0m\u001b[0mxlabel\u001b[0m\u001b[0;34m(\u001b[0m\u001b[0;34m'Temperature (K)'\u001b[0m\u001b[0;34m)\u001b[0m\u001b[0;34m\u001b[0m\u001b[0;34m\u001b[0m\u001b[0m\n",
      "\u001b[0;31mTypeError\u001b[0m: 'numpy.float64' object is not callable"
     ]
    },
    {
     "data": {
      "text/plain": [
       "<Figure size 720x576 with 0 Axes>"
      ]
     },
     "metadata": {},
     "output_type": "display_data"
    }
   ],
   "source": [
    "plt.figure(figsize=(10, 8))\n",
    "plt.rcParams['font.size'] = 16\n",
    "\n",
    "#dark_current = alpha_fit * np.exp(-e_g_fit / (2 * k_b * t_kel))\n",
    "\n",
    "plt.plot(t_kel, dark_current(t_kel, 77098910165.43013, 1.2205226843061665))\n",
    "plt.ylabel('Dark Current (e-/sec)')\n",
    "plt.xlabel('Temperature (K)')\n",
    "plt.show()"
   ]
  },
  {
   "cell_type": "code",
   "execution_count": null,
   "metadata": {},
   "outputs": [],
   "source": []
  },
  {
   "cell_type": "code",
   "execution_count": null,
   "metadata": {},
   "outputs": [],
   "source": []
  }
 ],
 "metadata": {
  "anaconda-cloud": {},
  "kernelspec": {
   "display_name": "Python 3",
   "language": "python",
   "name": "python3"
  },
  "language_info": {
   "codemirror_mode": {
    "name": "ipython",
    "version": 3
   },
   "file_extension": ".py",
   "mimetype": "text/x-python",
   "name": "python",
   "nbconvert_exporter": "python",
   "pygments_lexer": "ipython3",
   "version": "3.7.3"
  }
 },
 "nbformat": 4,
 "nbformat_minor": 1
}
