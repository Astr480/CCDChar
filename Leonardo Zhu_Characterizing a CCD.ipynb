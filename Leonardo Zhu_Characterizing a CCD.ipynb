{
 "cells": [
  {
   "cell_type": "code",
   "execution_count": 13,
   "metadata": {},
   "outputs": [],
   "source": [
    "%matplotlib inline\n",
    "import numpy as np\n",
    "import matplotlib.pyplot as plt\n",
    "import astropy.io.fits as fits\n",
    "import glob\n",
    "import pandas as pd\n",
    "from scipy.optimize import curve_fit"
   ]
  },
  {
   "cell_type": "markdown",
   "metadata": {},
   "source": [
    "Loading the two flat images and two bias frames I'm gonna use."
   ]
  },
  {
   "cell_type": "code",
   "execution_count": 22,
   "metadata": {},
   "outputs": [
    {
     "name": "stdout",
     "output_type": "stream",
     "text": [
      "(1472, 2184)\n"
     ]
    }
   ],
   "source": [
    "flat1 = fits.getdata(\"./CCD data/Flat 24_sec.FIT\").astype(np.int32)\n",
    "flat2 = fits.getdata(\"./CCD data/Flat 30_sec.FIT\").astype(np.int32)\n",
    "bias1 = fits.getdata(\"./CCD data/bias1.FIT\").astype(np.int32)\n",
    "bias2 = fits.getdata(\"./CCD data/bias2.FIT\").astype(np.int32)\n",
    "print(flat1.shape)"
   ]
  },
  {
   "cell_type": "markdown",
   "metadata": {},
   "source": [
    "For a specific subregion, we get the mean values for the flatfield frames and the bias frames and the standard deviation of the image difference/"
   ]
  },
  {
   "cell_type": "code",
   "execution_count": 23,
   "metadata": {},
   "outputs": [
    {
     "name": "stdout",
     "output_type": "stream",
     "text": [
      "36478.2872\n",
      "45093.469\n",
      "1155.2103\n",
      "1155.5823\n",
      "256.41146103238054\n",
      "19.108862237192458\n"
     ]
    }
   ],
   "source": [
    "row0 = 500\n",
    "row1 = 600\n",
    "colm0 = 300\n",
    "colm1 = 400\n",
    "\n",
    "sub_mean_f1 = np.mean(flat1[row0:row1, colm0:colm1])\n",
    "print(sub_mean_f1)\n",
    "\n",
    "sub_mean_f2 = np.mean(flat2[row0:row1, colm0:colm1])\n",
    "print(sub_mean_f2)\n",
    "\n",
    "sub_mean_b1 = np.mean(bias1[row0:row1, colm0:colm1])\n",
    "print(sub_mean_b1)\n",
    "\n",
    "sub_mean_b2 = np.mean(bias2[row0:row1, colm0:colm1])\n",
    "print(sub_mean_b2)\n",
    "\n",
    "sub_sigma_f1f2 = np.std(flat1[row0:row1, colm0:colm1] - flat2[row0:row1, colm0:colm1] )\n",
    "print(sub_sigma_f1f2)\n",
    "\n",
    "sub_sigma_b1b2 = np.std(bias1[row0:row1, colm0:colm1] - bias2[row0:row1, colm0:colm1] )\n",
    "print(sub_sigma_b1b2)"
   ]
  },
  {
   "cell_type": "markdown",
   "metadata": {},
   "source": [
    "Get the gain value for the subregion."
   ]
  },
  {
   "cell_type": "code",
   "execution_count": 24,
   "metadata": {},
   "outputs": [
    {
     "name": "stdout",
     "output_type": "stream",
     "text": [
      "1.212280764480861\n"
     ]
    }
   ],
   "source": [
    "sub_gain =  ((sub_mean_f1 + sub_mean_f2) - (sub_mean_b1 + sub_mean_b2)) / (sub_sigma_f1f2**2 - sub_sigma_b1b2**2 )\n",
    "print(sub_gain)"
   ]
  },
  {
   "cell_type": "markdown",
   "metadata": {},
   "source": [
    "Read Noise in two units for the subregion"
   ]
  },
  {
   "cell_type": "code",
   "execution_count": 25,
   "metadata": {},
   "outputs": [
    {
     "name": "stdout",
     "output_type": "stream",
     "text": [
      "16.380345046607395\n",
      "13.512006068678327\n"
     ]
    }
   ],
   "source": [
    "# in electrons\n",
    "sub_read_noise = sub_gain * sub_sigma_b1b2/ np.sqrt(2)\n",
    "print(sub_read_noise)\n",
    "\n",
    "# in ADUs\n",
    "sigma_read_noise = sub_read_noise / sub_gain \n",
    "print(sigma_read_noise)"
   ]
  },
  {
   "cell_type": "markdown",
   "metadata": {},
   "source": [
    "For the linearity"
   ]
  },
  {
   "cell_type": "code",
   "execution_count": 20,
   "metadata": {},
   "outputs": [
    {
     "name": "stdout",
     "output_type": "stream",
     "text": [
      "['./CCD data/Flat_75_sec.FIT', './CCD data/Flat 30_sec.FIT', './CCD data/Flat 42_sec.FIT', './CCD data/Flat 6_sec.FIT', './CCD data/Flat 48_sec.FIT', './CCD data/Flat 54_sec.FIT', './CCD data/Flat 36_sec.FIT', './CCD data/Flat 1.5_sec.FIT', './CCD data/Flat_375_sec.FIT', './CCD data/Flat 3_sec.FIT', './CCD data/Flat 24_sec.FIT', './CCD data/Flat_185_sec.FIT', './CCD data/Flat 18_sec2.FIT', './CCD data/Flat 60_sec.FIT', './CCD data/Flat 12_sec.FIT']\n"
     ]
    }
   ],
   "source": [
    "flat_list = glob.glob('./CCD data/Flat*.FIT')\n",
    "print(flat_list)"
   ]
  },
  {
   "cell_type": "code",
   "execution_count": 21,
   "metadata": {},
   "outputs": [
    {
     "name": "stdout",
     "output_type": "stream",
     "text": [
      "Exposure time 0.75 sec\n",
      "Mean counts: 2192.44\n",
      "\n",
      "Exposure time 30.0 sec\n",
      "Mean counts: 45259.31\n",
      "\n",
      "Exposure time 42.0 sec\n",
      "Mean counts: 56429.01\n",
      "\n",
      "Exposure time 6.0 sec\n",
      "Mean counts: 9578.54\n",
      "\n",
      "Exposure time 48.0 sec\n",
      "Mean counts: 57330.16\n",
      "\n",
      "Exposure time 54.0 sec\n",
      "Mean counts: 57626.20\n",
      "\n",
      "Exposure time 36.0 sec\n",
      "Mean counts: 52164.65\n",
      "\n",
      "Exposure time 1.5 sec\n",
      "Mean counts: 3174.87\n",
      "\n",
      "Exposure time 0.375 sec\n",
      "Mean counts: 1673.31\n",
      "\n",
      "Exposure time 3.0 sec\n",
      "Mean counts: 5353.18\n",
      "\n",
      "Exposure time 24.0 sec\n",
      "Mean counts: 36629.32\n",
      "\n",
      "Exposure time 0.185 sec\n",
      "Mean counts: 1413.65\n",
      "\n",
      "Exposure time 18.0 sec\n",
      "Mean counts: 26611.05\n",
      "\n",
      "Exposure time 60.0 sec\n",
      "Mean counts: 57723.53\n",
      "\n",
      "Exposure time 12.0 sec\n",
      "Mean counts: 18178.72\n",
      "\n"
     ]
    }
   ],
   "source": [
    "exp_times = []\n",
    "means = []\n",
    "\n",
    "for filename in flat_list:\n",
    "\n",
    "    hdu = fits.open(filename)\n",
    "    \n",
    "    exptime = hdu[0].header['exptime']\n",
    "    print('Exposure time {} sec'.format(exptime))\n",
    "    exp_times.append(exptime)\n",
    "    \n",
    "    mean_counts = np.mean(hdu[0].data)\n",
    "    print('Mean counts: {:.2f}\\n'.format(mean_counts))\n",
    "    means.append(mean_counts)\n",
    "\n",
    "exp_times = np.array(exp_times)\n",
    "means = np.array(means)\n",
    "\n",
    "time_sort = np.argsort(exp_times)\n",
    "exp_times = exp_times[time_sort]\n",
    "means = means[time_sort]"
   ]
  },
  {
   "cell_type": "code",
   "execution_count": 193,
   "metadata": {},
   "outputs": [
    {
     "data": {
      "image/png": "[encoded data removed]",
      "text/plain": [
       "<Figure size 720x576 with 1 Axes>"
      ]
     },
     "metadata": {
      "needs_background": "light"
     },
     "output_type": "display_data"
    }
   ],
   "source": [
    "plt.figure(figsize=(10, 8))\n",
    "plt.rcParams['font.size'] = 16\n",
    "\n",
    "plt.plot(exp_times, means, '-ko')\n",
    "plt.xlabel('Exposure Time (sec)')\n",
    "plt.ylabel('Mean counts')\n",
    "plt.show()"
   ]
  },
  {
   "cell_type": "markdown",
   "metadata": {},
   "source": [
    "For the dark current and band gap energy"
   ]
  },
  {
   "cell_type": "code",
   "execution_count": 194,
   "metadata": {},
   "outputs": [],
   "source": [
    "t_cel = np.array([-15., -10., -8., -6., -4.2, -2.3, 0., 2., \n",
    "                3.6, 5.8, 8.2, 10., 12.8, 16.2, 20.])\n",
    "adu = np.array([13, 15, 16, 17, 19, 22, 24, 28, 32, 37, \n",
    "                43, 50, 62, 89, 139])"
   ]
  },
  {
   "cell_type": "code",
   "execution_count": 204,
   "metadata": {},
   "outputs": [],
   "source": [
    "#Convert Celsius to Kelvin\n",
    "t_kel = t_cel + 273.15"
   ]
  },
  {
   "cell_type": "code",
   "execution_count": 205,
   "metadata": {},
   "outputs": [],
   "source": [
    "#Convert ADU (counts) to electrons，based on the gain 2.3 e-/ADU\n",
    "electrons = 2.3 * adu"
   ]
  },
  {
   "cell_type": "code",
   "execution_count": 210,
   "metadata": {},
   "outputs": [
    {
     "data": {
      "text/plain": [
       "array([0.24916667, 0.2875    , 0.30666667, 0.32583333, 0.36416667,\n",
       "       0.42166667, 0.46      , 0.53666667, 0.61333333, 0.70916667,\n",
       "       0.82416667, 0.95833333, 1.18833333, 1.70583333, 2.66416667])"
      ]
     },
     "execution_count": 210,
     "metadata": {},
     "output_type": "execute_result"
    }
   ],
   "source": [
    "#Convert electrons to electrons per second due to the 2 minute exposures\n",
    "electrons_per_sec = electrons/ (2*60)"
   ]
  },
  {
   "cell_type": "code",
   "execution_count": 213,
   "metadata": {},
   "outputs": [
    {
     "data": {
      "text/plain": [
       "[<matplotlib.lines.Line2D at 0x1027237a20>]"
      ]
     },
     "execution_count": 213,
     "metadata": {},
     "output_type": "execute_result"
    },
    {
     "data": {
      "image/png": "[encoded data removed]",
      "text/plain": [
       "<Figure size 432x288 with 1 Axes>"
      ]
     },
     "metadata": {
      "needs_background": "light"
     },
     "output_type": "display_data"
    }
   ],
   "source": [
    "plt.xlabel('Inverse Temperature (1/K)')\n",
    "plt.ylabel('Dark Current (e-/sec)')\n",
    "plt.plot(1/t_kel, electrons_per_sec)"
   ]
  },
  {
   "cell_type": "markdown",
   "metadata": {},
   "source": [
    "# We will try to fit a model for dark current of the form\n",
    "\n",
    "$D =  \\alpha e^{-e_g/2k_bT}$"
   ]
  },
  {
   "cell_type": "code",
   "execution_count": 219,
   "metadata": {},
   "outputs": [],
   "source": [
    "# The Boltzmann constant\n",
    "k_b = 8.6175e-5\n",
    "def dark_current(t_k, alpha, e_g):\n",
    "    \"\"\"\n",
    "    Analytic expression for dark current as a function of temperature.\n",
    "    \n",
    "    Parameters\n",
    "    ----------\n",
    "    t_k : numpy.ndarray\n",
    "        Temperature in Kelvin\n",
    "    alpha : float\n",
    "        Constant coefficient in front of exponential funtion.\n",
    "    e_g : float\n",
    "        Band gap energy in eV.\n",
    "    \n",
    "    Returns\n",
    "    -------\n",
    "    dark_current : numpy.ndarray\n",
    "        Dark current in electrons/pixel/second.\n",
    "    \"\"\"\n",
    "    dark_current = alpha * np.exp(-e_g / (2 * k_b * t_k))\n",
    "    return dark_current"
   ]
  },
  {
   "cell_type": "code",
   "execution_count": 220,
   "metadata": {},
   "outputs": [],
   "source": [
    "# Initial guesses\n",
    "t_0 = t_kel[-1]\n",
    "d_0 = electrons_per_sec[-1]\n",
    "\n",
    "alpha_0 =  d_0 / np.exp(-1.1 / (2 * k_b * t_0))\n",
    "e_g_0 = 1.1"
   ]
  },
  {
   "cell_type": "code",
   "execution_count": 221,
   "metadata": {},
   "outputs": [],
   "source": [
    "# Least squares fit\n",
    "p_opt, p_cov = curve_fit(dark_current, t_kel, electrons_per_sec, p0=[alpha_0, e_g_0])\n",
    "\n",
    "# Errors in the fit\n",
    "sig_alpha, sig_e_g = np.sqrt(np.diag(p_cov))"
   ]
  },
  {
   "cell_type": "code",
   "execution_count": 222,
   "metadata": {},
   "outputs": [
    {
     "name": "stdout",
     "output_type": "stream",
     "text": [
      "77098910165.43013\n",
      "1.2205226843061665\n"
     ]
    }
   ],
   "source": [
    "# Best fit\n",
    "alpha_fit, e_g_fit = p_opt\n",
    "print(alpha_fit)\n",
    "print(e_g_fit)"
   ]
  }
 ],
 "metadata": {
  "kernelspec": {
   "display_name": "Python 3",
   "language": "python",
   "name": "python3"
  },
  "language_info": {
   "codemirror_mode": {
    "name": "ipython",
    "version": 3
   },
   "file_extension": ".py",
   "mimetype": "text/x-python",
   "name": "python",
   "nbconvert_exporter": "python",
   "pygments_lexer": "ipython3",
   "version": "3.7.1"
  }
 },
 "nbformat": 4,
 "nbformat_minor": 2
}
