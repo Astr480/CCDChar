{
 "cells": [
  {
   "cell_type": "code",
   "execution_count": 1,
   "metadata": {},
   "outputs": [],
   "source": [
    "from astropy.io import fits\n",
    "import numpy as np\n",
    "import matplotlib.pyplot as plt"
   ]
  },
  {
   "cell_type": "code",
   "execution_count": 8,
   "metadata": {},
   "outputs": [],
   "source": [
    "def calculate_gain(flat_1, flat_2, bias_1, bias_2):\n",
    "    \"\"\"\n",
    "    Calculate detector gain given two flat frames and two bias frames.\n",
    "    \n",
    "    Parameters\n",
    "    ----------\n",
    "    flat_1, flat_2 : numpy.array_like\n",
    "        The flat frames\n",
    "    bias_1, bias_2 : numpy.array_like\n",
    "        The bias frames\n",
    "        \n",
    "    Returns\n",
    "    -------\n",
    "    gain : float\n",
    "        The detector gain\n",
    "    \"\"\"\n",
    "    # This is Equation 3 from the assignment\n",
    "    numerator = (np.mean(flat_1) + np.mean(flat_2)) - (np.mean(bias_1) + np.mean(bias_2))\n",
    "    denominator = np.std((flat_1 - flat_2)) ** 2 - np.std((bias_1 - bias_2)) ** 2\n",
    "    gain = numerator / denominator\n",
    "    \n",
    "    readnoise = gain * np.std((bias_1 - bias_2)) / np.sqrt(2)\n",
    "    \n",
    "    return gain\n",
    "    return readnoise\n",
    "\n",
    "def calculate_readnoise(flat_1, flat_2, bias_1, bias_2):\n",
    "    numerator = (np.mean(flat_1) + np.mean(flat_2)) - (np.mean(bias_1) + np.mean(bias_2))\n",
    "    denominator = np.std((flat_1 - flat_2)) ** 2 - np.std((bias_1 - bias_2)) ** 2\n",
    "    gain = numerator / denominator\n",
    "    \n",
    "    readnoise = gain * np.std((bias_1 - bias_2)) / np.sqrt(2)\n",
    "    \n",
    "  \n",
    "    return readnoise"
   ]
  },
  {
   "cell_type": "code",
   "execution_count": 13,
   "metadata": {},
   "outputs": [],
   "source": [
    "flat_1 = fits.getdata('./Xavier/18_sec.FIT').astype(np.int32)\n",
    "flat_2 = fits.getdata('./Xavier/18_sec2.FIT').astype(np.int32)\n",
    "bias_1 = fits.getdata('./Xavier/bias1.FIT').astype(np.int32)\n",
    "bias_2 = fits.getdata('./Xavier/bias2.FIT').astype(np.int32)\n"
   ]
  },
  {
   "cell_type": "code",
   "execution_count": 14,
   "metadata": {},
   "outputs": [
    {
     "data": {
      "text/plain": [
       "0.74471198758232"
      ]
     },
     "execution_count": 14,
     "metadata": {},
     "output_type": "execute_result"
    }
   ],
   "source": [
    "calculate_gain(flat_1,flat_2,bias_1,bias_2)"
   ]
  },
  {
   "cell_type": "code",
   "execution_count": 15,
   "metadata": {},
   "outputs": [
    {
     "data": {
      "text/plain": [
       "10.210565694277408"
      ]
     },
     "execution_count": 15,
     "metadata": {},
     "output_type": "execute_result"
    }
   ],
   "source": [
    "calculate_readnoise(flat_1,flat_2,bias_1,bias_2)"
   ]
  },
  {
   "cell_type": "code",
   "execution_count": 16,
   "metadata": {},
   "outputs": [
    {
     "data": {
      "text/plain": [
       "13.710218880085941"
      ]
     },
     "execution_count": 16,
     "metadata": {},
     "output_type": "execute_result"
    }
   ],
   "source": [
    "10.21/.7447"
   ]
  },
  {
   "cell_type": "code",
   "execution_count": null,
   "metadata": {},
   "outputs": [],
   "source": []
  }
 ],
 "metadata": {
  "kernelspec": {
   "display_name": "Python 3",
   "language": "python",
   "name": "python3"
  },
  "language_info": {
   "codemirror_mode": {
    "name": "ipython",
    "version": 3
   },
   "file_extension": ".py",
   "mimetype": "text/x-python",
   "name": "python",
   "nbconvert_exporter": "python",
   "pygments_lexer": "ipython3",
   "version": "3.7.2"
  }
 },
 "nbformat": 4,
 "nbformat_minor": 2
}
